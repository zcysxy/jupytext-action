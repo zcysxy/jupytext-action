{
 "cells": [
  {
   "cell_type": "raw",
   "id": "88ece5cf",
   "metadata": {},
   "source": [
    "---\n",
    "notebook: true\n",
    "type: jupyter\n",
    "---"
   ]
  },
  {
   "cell_type": "markdown",
   "id": "6f9ef457",
   "metadata": {},
   "source": [
    "# Hello World"
   ]
  },
  {
   "cell_type": "code",
   "execution_count": null,
   "id": "37ae0192",
   "metadata": {
    "lines_to_next_cell": 0
   },
   "outputs": [],
   "source": [
    "print(\"Hello World\")"
   ]
  },
  {
   "cell_type": "markdown",
   "id": "042d81d9",
   "metadata": {},
   "source": []
  }
 ],
 "metadata": {
  "jupytext": {
   "main_language": "python"
  },
  "kernelspec": {
   "display_name": "Python 3",
   "name": "python3"
  }
 },
 "nbformat": 4,
 "nbformat_minor": 5
}
